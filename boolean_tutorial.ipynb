{
 "cells": [
  {
   "cell_type": "code",
   "execution_count": 3,
   "id": "329c9734-0748-4d49-b862-c2bb0447e2b5",
   "metadata": {},
   "outputs": [],
   "source": [
    "import pandas as pd\n",
    "import numpy as np"
   ]
  },
  {
   "cell_type": "code",
   "execution_count": 12,
   "id": "245b4e91-45e4-4137-bc2a-0e0de6f2051a",
   "metadata": {},
   "outputs": [
    {
     "name": "stdout",
     "output_type": "stream",
     "text": [
      "<class 'pandas.core.frame.DataFrame'>\n",
      "RangeIndex: 4 entries, 0 to 3\n",
      "Data columns (total 4 columns):\n",
      " #   Column  Non-Null Count  Dtype \n",
      "---  ------  --------------  ----- \n",
      " 0   name    4 non-null      object\n",
      " 1   age     4 non-null      int64 \n",
      " 2   occ     4 non-null      object\n",
      " 3   hobby   4 non-null      object\n",
      "dtypes: int64(1), object(3)\n",
      "memory usage: 256.0+ bytes\n"
     ]
    }
   ],
   "source": [
    "data = {\n",
    "    'name': ['Peter','John','Mary','Ann'],\n",
    "    'age':  [18, 40, 20, 35],\n",
    "    'occ':  ['clerk','driver','student','nurse'],\n",
    "    'hobby':['drawing','driving','dancing','cooking']}\n",
    "\n",
    "df = pd.DataFrame(data)\n",
    "df.info()"
   ]
  },
  {
   "cell_type": "code",
   "execution_count": 10,
   "id": "4394f652-67a3-41c3-848f-8043cc3d3429",
   "metadata": {},
   "outputs": [
    {
     "name": "stdout",
     "output_type": "stream",
     "text": [
      "    name  age      occ    hobby  combined_condition  combined_condition_or\n",
      "0  Peter   18    clerk  drawing                   1                      1\n",
      "1   John   40   driver  driving                   0                      1\n",
      "2   Mary   20  student  dancing                   0                      1\n",
      "3    Ann   35    nurse  cooking                   0                      0\n"
     ]
    }
   ],
   "source": [
    "# Define the boolean conditions\n",
    "age_condition = df['age'] < 30\n",
    "occ_condition = df['occ'].isin(['clerk', 'driver'])\n",
    "\n",
    "# Create a new boolean Series that satisfies either condition (OR)\n",
    "combined_condition_or = age_condition | occ_condition\n",
    "\n",
    "# Convert the boolean Series to integers (1 for True, 0 for False)\n",
    "df['combined_condition_or'] = combined_condition_or.astype(int)\n",
    "\n",
    "# Display the updated DataFrame\n",
    "print(df)"
   ]
  },
  {
   "cell_type": "code",
   "execution_count": 11,
   "id": "c93129f9-6ac7-4233-9b29-ef5dc502cbec",
   "metadata": {},
   "outputs": [
    {
     "name": "stdout",
     "output_type": "stream",
     "text": [
      "    name  age      occ    hobby  combined_condition  combined_condition_or  \\\n",
      "0  Peter   18    clerk  drawing                   1                      1   \n",
      "1   John   40   driver  driving                   0                      1   \n",
      "2   Mary   20  student  dancing                   0                      1   \n",
      "3    Ann   35    nurse  cooking                   0                      0   \n",
      "\n",
      "   combined_condition_and  \n",
      "0                       1  \n",
      "1                       1  \n",
      "2                       1  \n",
      "3                       0  \n"
     ]
    }
   ],
   "source": [
    "# Define the boolean conditions\n",
    "age_condition = df['age'] < 30\n",
    "occ_condition = df['occ'].isin(['clerk', 'driver'])\n",
    "\n",
    "# Create a new boolean Series that satisfies either condition (OR)\n",
    "combined_condition_and = age_condition & occ_condition\n",
    "\n",
    "# Convert the boolean Series to integers (1 for True, 0 for False)\n",
    "df['combined_condition_and'] = combined_condition_or.astype(int)\n",
    "\n",
    "# Display the updated DataFrame\n",
    "print(df)"
   ]
  },
  {
   "cell_type": "code",
   "execution_count": null,
   "id": "6a324f40-f40b-41a4-a9e4-b43ff1bbe033",
   "metadata": {},
   "outputs": [],
   "source": []
  }
 ],
 "metadata": {
  "kernelspec": {
   "display_name": "Python 3",
   "language": "python",
   "name": "python3"
  },
  "language_info": {
   "codemirror_mode": {
    "name": "ipython",
    "version": 3
   },
   "file_extension": ".py",
   "mimetype": "text/x-python",
   "name": "python",
   "nbconvert_exporter": "python",
   "pygments_lexer": "ipython3",
   "version": "3.8.8"
  }
 },
 "nbformat": 4,
 "nbformat_minor": 5
}
